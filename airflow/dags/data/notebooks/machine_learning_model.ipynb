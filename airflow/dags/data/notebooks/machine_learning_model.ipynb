{
 "cells": [
  {
   "cell_type": "markdown",
   "metadata": {},
   "source": [
    "### Modelagem"
   ]
  },
  {
   "cell_type": "code",
   "execution_count": 1,
   "metadata": {},
   "outputs": [],
   "source": [
    "import numpy as np\n",
    "import pandas as pd\n",
    "import seaborn as sns\n",
    "import matplotlib.pyplot as plt\n",
    "import warnings\n",
    "import joblib\n",
    "from sklearn.model_selection import train_test_split\n",
    "from sklearn.preprocessing import StandardScaler\n",
    "from sklearn.linear_model import LinearRegression\n",
    "from sklearn.metrics import mean_absolute_error\n",
    "from sklearn.ensemble import RandomForestRegressor, AdaBoostRegressor, GradientBoostingRegressor\n",
    "from sklearn.tree import DecisionTreeRegressor\n",
    "\n",
    "%matplotlib inline\n",
    "pd.set_option('display.max_columns',None)\n",
    "warnings.simplefilter(action='ignore')"
   ]
  },
  {
   "cell_type": "markdown",
   "metadata": {},
   "source": [
    "### Carregando os dados"
   ]
  },
  {
   "cell_type": "code",
   "execution_count": 3,
   "metadata": {
    "scrolled": true
   },
   "outputs": [
    {
     "data": {
      "text/plain": [
       "(30257, 21)"
      ]
     },
     "execution_count": 3,
     "metadata": {},
     "output_type": "execute_result"
    }
   ],
   "source": [
    "df = pd.read_csv('zillow_dataset_final.csv')\n",
    "df.shape"
   ]
  },
  {
   "cell_type": "code",
   "execution_count": 4,
   "metadata": {},
   "outputs": [
    {
     "data": {
      "text/html": [
       "<div>\n",
       "<style scoped>\n",
       "    .dataframe tbody tr th:only-of-type {\n",
       "        vertical-align: middle;\n",
       "    }\n",
       "\n",
       "    .dataframe tbody tr th {\n",
       "        vertical-align: top;\n",
       "    }\n",
       "\n",
       "    .dataframe thead th {\n",
       "        text-align: right;\n",
       "    }\n",
       "</style>\n",
       "<table border=\"1\" class=\"dataframe\">\n",
       "  <thead>\n",
       "    <tr style=\"text-align: right;\">\n",
       "      <th></th>\n",
       "      <th>parcelid</th>\n",
       "      <th>bathroomcnt</th>\n",
       "      <th>bedroomcnt</th>\n",
       "      <th>buildingqualitytypeid</th>\n",
       "      <th>finishedsquarefeet12</th>\n",
       "      <th>fips</th>\n",
       "      <th>heatingorsystemtypeid</th>\n",
       "      <th>latitude</th>\n",
       "      <th>longitude</th>\n",
       "      <th>lotsizesquarefeet</th>\n",
       "      <th>propertylandusetypeid</th>\n",
       "      <th>rawcensustractandblock</th>\n",
       "      <th>regionidcity</th>\n",
       "      <th>regionidcounty</th>\n",
       "      <th>regionidzip</th>\n",
       "      <th>roomcnt</th>\n",
       "      <th>unitcnt</th>\n",
       "      <th>taxamount</th>\n",
       "      <th>logerror</th>\n",
       "      <th>yeardifference</th>\n",
       "      <th>propertyzoningdesc_labels</th>\n",
       "    </tr>\n",
       "  </thead>\n",
       "  <tbody>\n",
       "    <tr>\n",
       "      <th>0</th>\n",
       "      <td>17073783</td>\n",
       "      <td>2.5</td>\n",
       "      <td>3.0</td>\n",
       "      <td>7.0</td>\n",
       "      <td>1264.0</td>\n",
       "      <td>6111</td>\n",
       "      <td>2.0</td>\n",
       "      <td>34.303597</td>\n",
       "      <td>-119.287236</td>\n",
       "      <td>1735.0</td>\n",
       "      <td>265</td>\n",
       "      <td>61.110022</td>\n",
       "      <td>34543.0</td>\n",
       "      <td>2061</td>\n",
       "      <td>97081.0</td>\n",
       "      <td>5.0</td>\n",
       "      <td>1.0</td>\n",
       "      <td>2015.06</td>\n",
       "      <td>0.0953</td>\n",
       "      <td>29.0</td>\n",
       "      <td>428</td>\n",
       "    </tr>\n",
       "    <tr>\n",
       "      <th>1</th>\n",
       "      <td>17088994</td>\n",
       "      <td>1.0</td>\n",
       "      <td>2.0</td>\n",
       "      <td>7.0</td>\n",
       "      <td>777.0</td>\n",
       "      <td>6111</td>\n",
       "      <td>2.0</td>\n",
       "      <td>34.272866</td>\n",
       "      <td>-119.198911</td>\n",
       "      <td>6000.0</td>\n",
       "      <td>266</td>\n",
       "      <td>61.110015</td>\n",
       "      <td>34543.0</td>\n",
       "      <td>2061</td>\n",
       "      <td>97083.0</td>\n",
       "      <td>4.0</td>\n",
       "      <td>1.0</td>\n",
       "      <td>2581.30</td>\n",
       "      <td>0.0198</td>\n",
       "      <td>25.0</td>\n",
       "      <td>428</td>\n",
       "    </tr>\n",
       "    <tr>\n",
       "      <th>2</th>\n",
       "      <td>17100444</td>\n",
       "      <td>2.0</td>\n",
       "      <td>3.0</td>\n",
       "      <td>7.0</td>\n",
       "      <td>1101.0</td>\n",
       "      <td>6111</td>\n",
       "      <td>2.0</td>\n",
       "      <td>34.340801</td>\n",
       "      <td>-119.079610</td>\n",
       "      <td>6569.0</td>\n",
       "      <td>261</td>\n",
       "      <td>61.110007</td>\n",
       "      <td>26965.0</td>\n",
       "      <td>2061</td>\n",
       "      <td>97113.0</td>\n",
       "      <td>5.0</td>\n",
       "      <td>1.0</td>\n",
       "      <td>591.64</td>\n",
       "      <td>0.0060</td>\n",
       "      <td>59.0</td>\n",
       "      <td>428</td>\n",
       "    </tr>\n",
       "    <tr>\n",
       "      <th>3</th>\n",
       "      <td>17102429</td>\n",
       "      <td>1.5</td>\n",
       "      <td>2.0</td>\n",
       "      <td>7.0</td>\n",
       "      <td>1554.0</td>\n",
       "      <td>6111</td>\n",
       "      <td>2.0</td>\n",
       "      <td>34.354313</td>\n",
       "      <td>-119.076405</td>\n",
       "      <td>7400.0</td>\n",
       "      <td>261</td>\n",
       "      <td>61.110008</td>\n",
       "      <td>26965.0</td>\n",
       "      <td>2061</td>\n",
       "      <td>97113.0</td>\n",
       "      <td>5.0</td>\n",
       "      <td>1.0</td>\n",
       "      <td>682.78</td>\n",
       "      <td>-0.0566</td>\n",
       "      <td>50.0</td>\n",
       "      <td>428</td>\n",
       "    </tr>\n",
       "    <tr>\n",
       "      <th>4</th>\n",
       "      <td>17109604</td>\n",
       "      <td>2.5</td>\n",
       "      <td>4.0</td>\n",
       "      <td>7.0</td>\n",
       "      <td>2415.0</td>\n",
       "      <td>6111</td>\n",
       "      <td>2.0</td>\n",
       "      <td>34.266578</td>\n",
       "      <td>-119.165392</td>\n",
       "      <td>6326.0</td>\n",
       "      <td>261</td>\n",
       "      <td>61.110014</td>\n",
       "      <td>34543.0</td>\n",
       "      <td>2061</td>\n",
       "      <td>97084.0</td>\n",
       "      <td>8.0</td>\n",
       "      <td>1.0</td>\n",
       "      <td>5886.92</td>\n",
       "      <td>0.0573</td>\n",
       "      <td>31.0</td>\n",
       "      <td>428</td>\n",
       "    </tr>\n",
       "  </tbody>\n",
       "</table>\n",
       "</div>"
      ],
      "text/plain": [
       "   parcelid  bathroomcnt  bedroomcnt  buildingqualitytypeid  \\\n",
       "0  17073783          2.5         3.0                    7.0   \n",
       "1  17088994          1.0         2.0                    7.0   \n",
       "2  17100444          2.0         3.0                    7.0   \n",
       "3  17102429          1.5         2.0                    7.0   \n",
       "4  17109604          2.5         4.0                    7.0   \n",
       "\n",
       "   finishedsquarefeet12  fips  heatingorsystemtypeid   latitude   longitude  \\\n",
       "0                1264.0  6111                    2.0  34.303597 -119.287236   \n",
       "1                 777.0  6111                    2.0  34.272866 -119.198911   \n",
       "2                1101.0  6111                    2.0  34.340801 -119.079610   \n",
       "3                1554.0  6111                    2.0  34.354313 -119.076405   \n",
       "4                2415.0  6111                    2.0  34.266578 -119.165392   \n",
       "\n",
       "   lotsizesquarefeet  propertylandusetypeid  rawcensustractandblock  \\\n",
       "0             1735.0                    265               61.110022   \n",
       "1             6000.0                    266               61.110015   \n",
       "2             6569.0                    261               61.110007   \n",
       "3             7400.0                    261               61.110008   \n",
       "4             6326.0                    261               61.110014   \n",
       "\n",
       "   regionidcity  regionidcounty  regionidzip  roomcnt  unitcnt  taxamount  \\\n",
       "0       34543.0            2061      97081.0      5.0      1.0    2015.06   \n",
       "1       34543.0            2061      97083.0      4.0      1.0    2581.30   \n",
       "2       26965.0            2061      97113.0      5.0      1.0     591.64   \n",
       "3       26965.0            2061      97113.0      5.0      1.0     682.78   \n",
       "4       34543.0            2061      97084.0      8.0      1.0    5886.92   \n",
       "\n",
       "   logerror  yeardifference  propertyzoningdesc_labels  \n",
       "0    0.0953            29.0                        428  \n",
       "1    0.0198            25.0                        428  \n",
       "2    0.0060            59.0                        428  \n",
       "3   -0.0566            50.0                        428  \n",
       "4    0.0573            31.0                        428  "
      ]
     },
     "execution_count": 4,
     "metadata": {},
     "output_type": "execute_result"
    }
   ],
   "source": [
    "df.head()"
   ]
  },
  {
   "cell_type": "markdown",
   "metadata": {},
   "source": [
    "### Separando os conjuntos de treino e teste."
   ]
  },
  {
   "cell_type": "code",
   "execution_count": 5,
   "metadata": {},
   "outputs": [
    {
     "data": {
      "text/plain": [
       "((30257, 19), (30257,))"
      ]
     },
     "execution_count": 5,
     "metadata": {},
     "output_type": "execute_result"
    }
   ],
   "source": [
    "X = df.drop(['logerror','parcelid'], axis=1)\n",
    "y = df['logerror']\n",
    "\n",
    "X.shape, y.shape"
   ]
  },
  {
   "cell_type": "code",
   "execution_count": 6,
   "metadata": {},
   "outputs": [
    {
     "data": {
      "text/plain": [
       "((21179, 19), (21179,), (9078, 19), (9078,))"
      ]
     },
     "execution_count": 6,
     "metadata": {},
     "output_type": "execute_result"
    }
   ],
   "source": [
    "X_train, X_test, y_train, y_test = train_test_split(X, y, test_size=0.30, random_state = 100)\n",
    "X_train.shape, y_train.shape, X_test.shape, y_test.shape"
   ]
  },
  {
   "cell_type": "markdown",
   "metadata": {},
   "source": [
    "### Features Scaler"
   ]
  },
  {
   "cell_type": "code",
   "execution_count": 7,
   "metadata": {
    "scrolled": true
   },
   "outputs": [],
   "source": [
    "train_vars = [var for var in X_train.columns if var not in ['parcelid', 'logerror']]"
   ]
  },
  {
   "cell_type": "code",
   "execution_count": 8,
   "metadata": {},
   "outputs": [],
   "source": [
    "scaler = StandardScaler()\n",
    "\n",
    "scaler.fit(X_train[train_vars]) \n",
    "\n",
    "X_train[train_vars] = scaler.transform(X_train[train_vars])\n",
    "\n",
    "X_test[train_vars] = scaler.transform(X_test[train_vars])"
   ]
  },
  {
   "cell_type": "code",
   "execution_count": 9,
   "metadata": {
    "scrolled": true
   },
   "outputs": [
    {
     "data": {
      "text/html": [
       "<div>\n",
       "<style scoped>\n",
       "    .dataframe tbody tr th:only-of-type {\n",
       "        vertical-align: middle;\n",
       "    }\n",
       "\n",
       "    .dataframe tbody tr th {\n",
       "        vertical-align: top;\n",
       "    }\n",
       "\n",
       "    .dataframe thead th {\n",
       "        text-align: right;\n",
       "    }\n",
       "</style>\n",
       "<table border=\"1\" class=\"dataframe\">\n",
       "  <thead>\n",
       "    <tr style=\"text-align: right;\">\n",
       "      <th></th>\n",
       "      <th>bathroomcnt</th>\n",
       "      <th>bedroomcnt</th>\n",
       "      <th>buildingqualitytypeid</th>\n",
       "      <th>finishedsquarefeet12</th>\n",
       "      <th>fips</th>\n",
       "      <th>heatingorsystemtypeid</th>\n",
       "      <th>latitude</th>\n",
       "      <th>longitude</th>\n",
       "      <th>lotsizesquarefeet</th>\n",
       "      <th>propertylandusetypeid</th>\n",
       "      <th>rawcensustractandblock</th>\n",
       "      <th>regionidcity</th>\n",
       "      <th>regionidcounty</th>\n",
       "      <th>regionidzip</th>\n",
       "      <th>roomcnt</th>\n",
       "      <th>unitcnt</th>\n",
       "      <th>taxamount</th>\n",
       "      <th>yeardifference</th>\n",
       "      <th>propertyzoningdesc_labels</th>\n",
       "    </tr>\n",
       "  </thead>\n",
       "  <tbody>\n",
       "    <tr>\n",
       "      <th>22778</th>\n",
       "      <td>-0.277862</td>\n",
       "      <td>-0.028849</td>\n",
       "      <td>0.549229</td>\n",
       "      <td>-0.503454</td>\n",
       "      <td>0.488405</td>\n",
       "      <td>-0.391736</td>\n",
       "      <td>-0.566720</td>\n",
       "      <td>0.720386</td>\n",
       "      <td>-0.213732</td>\n",
       "      <td>-0.137719</td>\n",
       "      <td>0.477622</td>\n",
       "      <td>-0.185969</td>\n",
       "      <td>-1.533559</td>\n",
       "      <td>0.227684</td>\n",
       "      <td>1.926003</td>\n",
       "      <td>-0.071666</td>\n",
       "      <td>-0.322545</td>\n",
       "      <td>0.603208</td>\n",
       "      <td>-0.434284</td>\n",
       "    </tr>\n",
       "    <tr>\n",
       "      <th>24559</th>\n",
       "      <td>-0.277862</td>\n",
       "      <td>0.841501</td>\n",
       "      <td>-1.249831</td>\n",
       "      <td>-0.111301</td>\n",
       "      <td>-0.575955</td>\n",
       "      <td>-0.391736</td>\n",
       "      <td>0.449702</td>\n",
       "      <td>1.135856</td>\n",
       "      <td>-0.198896</td>\n",
       "      <td>-0.137719</td>\n",
       "      <td>-0.575999</td>\n",
       "      <td>0.133081</td>\n",
       "      <td>0.716534</td>\n",
       "      <td>-0.029467</td>\n",
       "      <td>-0.530556</td>\n",
       "      <td>-0.071666</td>\n",
       "      <td>-0.028350</td>\n",
       "      <td>-0.364768</td>\n",
       "      <td>1.139187</td>\n",
       "    </tr>\n",
       "    <tr>\n",
       "      <th>7036</th>\n",
       "      <td>-0.277862</td>\n",
       "      <td>-0.028849</td>\n",
       "      <td>0.549229</td>\n",
       "      <td>-0.560924</td>\n",
       "      <td>0.488405</td>\n",
       "      <td>-0.391736</td>\n",
       "      <td>-1.013949</td>\n",
       "      <td>0.497769</td>\n",
       "      <td>-0.209156</td>\n",
       "      <td>-0.137719</td>\n",
       "      <td>0.481937</td>\n",
       "      <td>-0.177033</td>\n",
       "      <td>-1.533559</td>\n",
       "      <td>0.192361</td>\n",
       "      <td>1.575066</td>\n",
       "      <td>-0.071666</td>\n",
       "      <td>-0.420241</td>\n",
       "      <td>0.182349</td>\n",
       "      <td>-0.434284</td>\n",
       "    </tr>\n",
       "    <tr>\n",
       "      <th>27619</th>\n",
       "      <td>1.729074</td>\n",
       "      <td>0.841501</td>\n",
       "      <td>0.549229</td>\n",
       "      <td>1.679303</td>\n",
       "      <td>-0.575955</td>\n",
       "      <td>-0.391736</td>\n",
       "      <td>0.253694</td>\n",
       "      <td>0.200673</td>\n",
       "      <td>-0.191636</td>\n",
       "      <td>-0.137719</td>\n",
       "      <td>-0.572030</td>\n",
       "      <td>0.383308</td>\n",
       "      <td>0.716534</td>\n",
       "      <td>-0.011099</td>\n",
       "      <td>-0.530556</td>\n",
       "      <td>-0.071666</td>\n",
       "      <td>0.057289</td>\n",
       "      <td>2.454988</td>\n",
       "      <td>-1.783942</td>\n",
       "    </tr>\n",
       "    <tr>\n",
       "      <th>26407</th>\n",
       "      <td>-0.277862</td>\n",
       "      <td>0.841501</td>\n",
       "      <td>0.549229</td>\n",
       "      <td>-0.341184</td>\n",
       "      <td>0.488405</td>\n",
       "      <td>-0.391736</td>\n",
       "      <td>-0.899019</td>\n",
       "      <td>0.983082</td>\n",
       "      <td>-0.209495</td>\n",
       "      <td>-0.137719</td>\n",
       "      <td>0.480757</td>\n",
       "      <td>0.314880</td>\n",
       "      <td>-1.533559</td>\n",
       "      <td>0.211200</td>\n",
       "      <td>1.926003</td>\n",
       "      <td>-0.071666</td>\n",
       "      <td>-0.477188</td>\n",
       "      <td>-0.154338</td>\n",
       "      <td>-0.434284</td>\n",
       "    </tr>\n",
       "  </tbody>\n",
       "</table>\n",
       "</div>"
      ],
      "text/plain": [
       "       bathroomcnt  bedroomcnt  buildingqualitytypeid  finishedsquarefeet12  \\\n",
       "22778    -0.277862   -0.028849               0.549229             -0.503454   \n",
       "24559    -0.277862    0.841501              -1.249831             -0.111301   \n",
       "7036     -0.277862   -0.028849               0.549229             -0.560924   \n",
       "27619     1.729074    0.841501               0.549229              1.679303   \n",
       "26407    -0.277862    0.841501               0.549229             -0.341184   \n",
       "\n",
       "           fips  heatingorsystemtypeid  latitude  longitude  \\\n",
       "22778  0.488405              -0.391736 -0.566720   0.720386   \n",
       "24559 -0.575955              -0.391736  0.449702   1.135856   \n",
       "7036   0.488405              -0.391736 -1.013949   0.497769   \n",
       "27619 -0.575955              -0.391736  0.253694   0.200673   \n",
       "26407  0.488405              -0.391736 -0.899019   0.983082   \n",
       "\n",
       "       lotsizesquarefeet  propertylandusetypeid  rawcensustractandblock  \\\n",
       "22778          -0.213732              -0.137719                0.477622   \n",
       "24559          -0.198896              -0.137719               -0.575999   \n",
       "7036           -0.209156              -0.137719                0.481937   \n",
       "27619          -0.191636              -0.137719               -0.572030   \n",
       "26407          -0.209495              -0.137719                0.480757   \n",
       "\n",
       "       regionidcity  regionidcounty  regionidzip   roomcnt   unitcnt  \\\n",
       "22778     -0.185969       -1.533559     0.227684  1.926003 -0.071666   \n",
       "24559      0.133081        0.716534    -0.029467 -0.530556 -0.071666   \n",
       "7036      -0.177033       -1.533559     0.192361  1.575066 -0.071666   \n",
       "27619      0.383308        0.716534    -0.011099 -0.530556 -0.071666   \n",
       "26407      0.314880       -1.533559     0.211200  1.926003 -0.071666   \n",
       "\n",
       "       taxamount  yeardifference  propertyzoningdesc_labels  \n",
       "22778  -0.322545        0.603208                  -0.434284  \n",
       "24559  -0.028350       -0.364768                   1.139187  \n",
       "7036   -0.420241        0.182349                  -0.434284  \n",
       "27619   0.057289        2.454988                  -1.783942  \n",
       "26407  -0.477188       -0.154338                  -0.434284  "
      ]
     },
     "execution_count": 9,
     "metadata": {},
     "output_type": "execute_result"
    }
   ],
   "source": [
    "X_train.head()"
   ]
  },
  {
   "cell_type": "markdown",
   "metadata": {},
   "source": [
    "#### Log de métricas."
   ]
  },
  {
   "cell_type": "code",
   "execution_count": 21,
   "metadata": {},
   "outputs": [],
   "source": [
    "metricas = []"
   ]
  },
  {
   "cell_type": "markdown",
   "metadata": {},
   "source": [
    "### Linear Regression Model:"
   ]
  },
  {
   "cell_type": "code",
   "execution_count": 22,
   "metadata": {},
   "outputs": [
    {
     "data": {
      "text/plain": [
       "LinearRegression()"
      ]
     },
     "execution_count": 22,
     "metadata": {},
     "output_type": "execute_result"
    }
   ],
   "source": [
    "linear_reg = LinearRegression()\n",
    "linear_reg.fit(X_train, y_train)"
   ]
  },
  {
   "cell_type": "code",
   "execution_count": 23,
   "metadata": {},
   "outputs": [
    {
     "name": "stdout",
     "output_type": "stream",
     "text": [
      "Mean Absolute Error : 0.0692746833232062\n"
     ]
    }
   ],
   "source": [
    "linear_reg_pred = linear_reg.predict(X_test)\n",
    "mae = mean_absolute_error(y_test, linear_reg_pred)\n",
    "metricas.append(mae)\n",
    "\n",
    "print('Mean Absolute Error : {}'.format(mae))"
   ]
  },
  {
   "cell_type": "markdown",
   "metadata": {},
   "source": [
    "### Ada Boost Regression Model:"
   ]
  },
  {
   "cell_type": "code",
   "execution_count": 24,
   "metadata": {},
   "outputs": [
    {
     "data": {
      "text/plain": [
       "AdaBoostRegressor()"
      ]
     },
     "execution_count": 24,
     "metadata": {},
     "output_type": "execute_result"
    }
   ],
   "source": [
    "adaboost_reg = AdaBoostRegressor()\n",
    "adaboost_reg.fit(X_train, y_train)"
   ]
  },
  {
   "cell_type": "code",
   "execution_count": 25,
   "metadata": {},
   "outputs": [
    {
     "name": "stdout",
     "output_type": "stream",
     "text": [
      "Mean Absolute Error : 0.25583558957899893\n"
     ]
    }
   ],
   "source": [
    "adaboost_reg_pred = adaboost_reg.predict(X_test)\n",
    "\n",
    "mae = mean_absolute_error(y_test, adaboost_reg_pred)\n",
    "metricas.append(mae)\n",
    "\n",
    "print('Mean Absolute Error : {}'.format(mae))"
   ]
  },
  {
   "cell_type": "markdown",
   "metadata": {},
   "source": [
    "### Gradient Boosting Regression Model:"
   ]
  },
  {
   "cell_type": "code",
   "execution_count": 26,
   "metadata": {},
   "outputs": [
    {
     "data": {
      "text/plain": [
       "GradientBoostingRegressor()"
      ]
     },
     "execution_count": 26,
     "metadata": {},
     "output_type": "execute_result"
    }
   ],
   "source": [
    "gb_reg = GradientBoostingRegressor()\n",
    "gb_reg.fit(X_train, y_train)"
   ]
  },
  {
   "cell_type": "code",
   "execution_count": 27,
   "metadata": {},
   "outputs": [
    {
     "name": "stdout",
     "output_type": "stream",
     "text": [
      "Mean Absolute Error : 0.06987745229611028\n"
     ]
    }
   ],
   "source": [
    "gb_reg_pred = gb_reg.predict(X_test)\n",
    "\n",
    "mae = mean_absolute_error(y_test, gb_reg_pred)\n",
    "metricas.append(mae)\n",
    "\n",
    "print('Mean Absolute Error : {}'.format(mae))"
   ]
  },
  {
   "cell_type": "markdown",
   "metadata": {},
   "source": [
    "### Decision Tree Regressor:"
   ]
  },
  {
   "cell_type": "code",
   "execution_count": 28,
   "metadata": {},
   "outputs": [
    {
     "data": {
      "text/plain": [
       "DecisionTreeRegressor()"
      ]
     },
     "execution_count": 28,
     "metadata": {},
     "output_type": "execute_result"
    }
   ],
   "source": [
    "tree_reg = DecisionTreeRegressor()\n",
    "tree_reg.fit(X_train, y_train)"
   ]
  },
  {
   "cell_type": "code",
   "execution_count": 29,
   "metadata": {},
   "outputs": [
    {
     "name": "stdout",
     "output_type": "stream",
     "text": [
      "Mean Absolute Error : 0.11150062238378498\n"
     ]
    }
   ],
   "source": [
    "tree_reg_pred = tree_reg.predict(X_test)\n",
    "\n",
    "mae = mean_absolute_error(y_test, tree_reg_pred)\n",
    "metricas.append(mae)\n",
    "\n",
    "print('Mean Absolute Error : {}'.format(mae))"
   ]
  },
  {
   "cell_type": "markdown",
   "metadata": {},
   "source": [
    "### Random Forest Regression Model:"
   ]
  },
  {
   "cell_type": "code",
   "execution_count": 30,
   "metadata": {
    "scrolled": true
   },
   "outputs": [
    {
     "data": {
      "text/plain": [
       "RandomForestRegressor(n_estimators=400)"
      ]
     },
     "execution_count": 30,
     "metadata": {},
     "output_type": "execute_result"
    }
   ],
   "source": [
    "forest_reg = RandomForestRegressor(n_estimators=400)\n",
    "forest_reg.fit(X_train, y_train)"
   ]
  },
  {
   "cell_type": "code",
   "execution_count": 31,
   "metadata": {
    "scrolled": false
   },
   "outputs": [
    {
     "name": "stdout",
     "output_type": "stream",
     "text": [
      "Mean Absolute Error : 0.07547945843973046\n"
     ]
    }
   ],
   "source": [
    "forest_reg_pred = forest_reg.predict(X_test)\n",
    "\n",
    "mae = mean_absolute_error(y_test, forest_reg_pred)\n",
    "metricas.append(mae)\n",
    "\n",
    "print('Mean Absolute Error : {}'.format(mae))"
   ]
  },
  {
   "cell_type": "markdown",
   "metadata": {},
   "source": [
    "#### Verificando a melhor métrica."
   ]
  },
  {
   "cell_type": "code",
   "execution_count": 32,
   "metadata": {
    "scrolled": true
   },
   "outputs": [
    {
     "data": {
      "text/plain": [
       "[0.0692746833232062,\n",
       " 0.25583558957899893,\n",
       " 0.06987745229611028,\n",
       " 0.11150062238378498,\n",
       " 0.07547945843973046]"
      ]
     },
     "execution_count": 32,
     "metadata": {},
     "output_type": "execute_result"
    }
   ],
   "source": [
    "metricas"
   ]
  },
  {
   "cell_type": "code",
   "execution_count": 34,
   "metadata": {},
   "outputs": [
    {
     "data": {
      "text/plain": [
       "0.0692746833232062"
      ]
     },
     "execution_count": 34,
     "metadata": {},
     "output_type": "execute_result"
    }
   ],
   "source": [
    "min(metricas)"
   ]
  },
  {
   "cell_type": "markdown",
   "metadata": {},
   "source": [
    "### Dump model to disk"
   ]
  },
  {
   "cell_type": "code",
   "execution_count": 22,
   "metadata": {},
   "outputs": [
    {
     "data": {
      "text/plain": [
       "['model.pkl']"
      ]
     },
     "execution_count": 22,
     "metadata": {},
     "output_type": "execute_result"
    }
   ],
   "source": [
    "joblib.dump(linear_reg, \"model.pkl\")"
   ]
  }
 ],
 "metadata": {
  "kernelspec": {
   "display_name": "Python 3",
   "language": "python",
   "name": "python3"
  },
  "language_info": {
   "codemirror_mode": {
    "name": "ipython",
    "version": 3
   },
   "file_extension": ".py",
   "mimetype": "text/x-python",
   "name": "python",
   "nbconvert_exporter": "python",
   "pygments_lexer": "ipython3",
   "version": "3.8.8"
  }
 },
 "nbformat": 4,
 "nbformat_minor": 4
}
